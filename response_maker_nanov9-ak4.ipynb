{
 "cells": [
  {
   "cell_type": "markdown",
   "metadata": {},
   "source": [
    "# Analysis for Differential Jet Mass in Z+Jets events with NanoAODv9"
   ]
  },
  {
   "cell_type": "code",
   "execution_count": 6,
   "metadata": {},
   "outputs": [
    {
     "name": "stdout",
     "output_type": "stream",
     "text": [
      "awkward version  1.7.0\n",
      "coffea version  0.7.11\n"
     ]
    }
   ],
   "source": [
    "import awkward as ak\n",
    "import numpy as np\n",
    "import time\n",
    "import coffea\n",
    "import uproot\n",
    "import hist\n",
    "import vector\n",
    "print(\"awkward version \", ak.__version__)\n",
    "print(\"coffea version \", coffea.__version__)\n",
    "from coffea import util, processor\n",
    "from coffea.nanoevents import NanoEventsFactory, NanoAODSchema, BaseSchema\n",
    "from collections import defaultdict\n",
    "import pickle\n",
    "from distributed.diagnostics.plugin import UploadDirectory\n",
    "import os"
   ]
  },
  {
   "cell_type": "markdown",
   "metadata": {},
   "source": [
    "### Automatically reload any modules used"
   ]
  },
  {
   "cell_type": "code",
   "execution_count": 7,
   "metadata": {},
   "outputs": [
    {
     "name": "stdout",
     "output_type": "stream",
     "text": [
      "The autoreload extension is already loaded. To reload it, use:\n",
      "  %reload_ext autoreload\n"
     ]
    }
   ],
   "source": [
    "%load_ext autoreload\n",
    "%autoreload 2"
   ]
  },
  {
   "cell_type": "code",
   "execution_count": 8,
   "metadata": {},
   "outputs": [],
   "source": [
    "from smp_utils import *\n",
    "from cms_utils import *\n",
    "from response_maker_nanov9_lib_ak4 import *\n",
    "from response_maker_nanov9_ak4 import *"
   ]
  },
  {
   "cell_type": "code",
   "execution_count": 34,
   "metadata": {},
   "outputs": [],
   "source": [
    "#f = uproot.open(\"/mnt/data/cms/store/mc/RunIISummer20UL16NanoAODv9/DYJetsToLL_M-50_HT-100to200_TuneCP5_PSweights_13TeV-madgraphMLM-pythia8/NANOAODSIM/106X_mcRun2_asymptotic_v17-v2/260000/18D0A087-30BD-FE4E-B447-5F493C2D2794.root\")\n",
    "#f[\"Events\"].keys()"
   ]
  },
  {
   "cell_type": "markdown",
   "metadata": {},
   "source": [
    "# f[\"Events\"].keys()"
   ]
  },
  {
   "cell_type": "code",
   "execution_count": 35,
   "metadata": {},
   "outputs": [],
   "source": [
    "#from dask.distributed import Client\n",
    "\n",
    "#client = Client(\"tls://rappoccio-40gmail-2ecom.dask.cmsaf-prod.flatiron.hollandhpc.org:8786\")\n",
    "#client"
   ]
  },
  {
   "cell_type": "code",
   "execution_count": 36,
   "metadata": {},
   "outputs": [],
   "source": [
    "#client.register_worker_plugin(UploadDirectory(\"/home/cms-jovyan/QJetMassUproot\", restart=True, update_path=True), nanny=True)\n",
    "#print(client.run(os.listdir, \"dask-worker-space\") )"
   ]
  },
  {
   "cell_type": "markdown",
   "metadata": {},
   "source": [
    "### If desired, uncomment these to move or remove old pkl files"
   ]
  },
  {
   "cell_type": "code",
   "execution_count": 4,
   "metadata": {},
   "outputs": [
    {
     "name": "stdout",
     "output_type": "stream",
     "text": [
      "/bin/bash: /opt/conda/lib/libtinfo.so.6: no version information available (required by /bin/bash)\n",
      "/bin/bash: /opt/conda/lib/libtinfo.so.6: no version information available (required by /bin/bash)\n"
     ]
    }
   ],
   "source": [
    "# ! mv qjetmass_zjets_gen.pkl qjetmass_zjets_gen_old.pkl\n",
    "# ! mv qjetmass_zjets_reco.pkl qjetmass_zjets_reco_old.pkl"
   ]
  },
  {
   "cell_type": "code",
   "execution_count": 38,
   "metadata": {
    "tags": []
   },
   "outputs": [],
   "source": [
    "#client.scheduler_info()['workers']"
   ]
  },
  {
   "cell_type": "markdown",
   "metadata": {},
   "source": [
    "### If you want to rerun, here is the line. Otherwise keep it commented to just read the pkl file. "
   ]
  },
  {
   "cell_type": "code",
   "execution_count": 10,
   "metadata": {
    "tags": []
   },
   "outputs": [
    {
     "data": {
      "application/vnd.jupyter.widget-view+json": {
       "model_id": "89816af24b384795a44d5dd72d5c2934",
       "version_major": 2,
       "version_minor": 0
      },
      "text/plain": [
       "Processing:   0%|          | 0/557 [00:00<?, ?chunk/s]"
      ]
     },
     "metadata": {},
     "output_type": "display_data"
    }
   ],
   "source": [
    "response_maker_nanov9(testing= False, do_gen=True, client=None, prependstr=\"/mnt/data/cms\")\n",
    "#response_maker_nanov9(testing=True, do_gen=True, client=client)"
   ]
  },
  {
   "cell_type": "code",
   "execution_count": 24,
   "metadata": {},
   "outputs": [],
   "source": [
    "#response_maker_nanov9(testing=True, do_gen=True, client=client)\n",
    "#response_maker_nanov9(testing=False, do_gen=True, client=None, prependstr=\"/mnt/data/cms\")"
   ]
  },
  {
   "cell_type": "code",
   "execution_count": null,
   "metadata": {},
   "outputs": [],
   "source": []
  },
  {
   "cell_type": "code",
   "execution_count": null,
   "metadata": {},
   "outputs": [],
   "source": [
    "#response_maker_nanov9(testing=True, do_gen=False, client=None, prependstr=\"/mnt/data/cms\")"
   ]
  },
  {
   "cell_type": "code",
   "execution_count": null,
   "metadata": {},
   "outputs": [],
   "source": []
  },
  {
   "cell_type": "markdown",
   "metadata": {},
   "source": [
    "### Open pkl file for the output histograms"
   ]
  },
  {
   "cell_type": "code",
   "execution_count": 25,
   "metadata": {},
   "outputs": [],
   "source": [
    "with open(\"qjetmass_zjets_gen.pkl\", \"rb\") as f:\n",
    "    output = pickle.load( f )"
   ]
  },
  {
   "cell_type": "code",
   "execution_count": 26,
   "metadata": {},
   "outputs": [
    {
     "data": {
      "text/plain": [
       "dict_keys(['dphi_z_jet_gen', 'dr_z_jet_reco', 'ptjet_mjet_g_gen', 'dr_gen_subjet', 'response_matrix_g', 'mz_reco', 'mz_reco_over_gen', 'dr_z_jet_gen', 'ptjet_mjet_g_reco', 'response_matrix_u', 'ptfrac_z_jet_gen', 'ptz_reco', 'm_g_jet_reco_over_gen', 'ptz_gen', 'njet_gen', 'm_u_jet_reco_over_gen', 'dphi_z_jet_reco', 'njet_reco', 'ptjet_reco_over_gen', 'pt_z_gen_over_reco', 'ptjet_gen_pre', 'ptjet_mjet_u_gen', 'ptfrac_z_jet_reco', 'dr_reco_to_gen_subjet', 'mz_gen', 'ptasym_z_jet_reco', 'drjet_reco_gen', 'pt_jet_reco_over_gen', 'pt_jet_over_z_gen', 'cutflow', 'ptjet_mjet_u_reco', 'ptasym_z_jet_gen'])"
      ]
     },
     "execution_count": 26,
     "metadata": {},
     "output_type": "execute_result"
    }
   ],
   "source": [
    "output.keys()"
   ]
  },
  {
   "cell_type": "code",
   "execution_count": 27,
   "metadata": {
    "scrolled": true
   },
   "outputs": [
    {
     "data": {
      "text/plain": [
       "{'UL18NanoAODv9': defaultdict(int,\n",
       "             {'z_ptcut_reco': 37615211,\n",
       "              'kinsel_reco': 9201094,\n",
       "              'presel_reco': 2575145,\n",
       "              'z_pt_asym_sel_reco': 18586236,\n",
       "              'z_pt_asym_sel_gen': 33585685,\n",
       "              'all events': 91880250,\n",
       "              'z_jet_dphi_sel_gen': 18389493,\n",
       "              'oneGenJet': 89070229,\n",
       "              'allsel_reco': 2003519,\n",
       "              'twoGen_mm': 12542671,\n",
       "              'twoReco_leptons': 10732923,\n",
       "              'z_mcut_reco': 17296460,\n",
       "              'twoReco_ee': 3283483,\n",
       "              'twoGen_leptons': 20096660,\n",
       "              'twoGen_ee': 7554478,\n",
       "              'toposel_reco': 4612216,\n",
       "              'z_mcut_gen': 18286566,\n",
       "              'z_jet_dphi_sel_reco': 15765291,\n",
       "              'oneRecoJet': 88762173,\n",
       "              'toposel_gen': 8831307,\n",
       "              'z_ptcut_gen': 19135829,\n",
       "              'allsel_gen': 4372424,\n",
       "              'weights cut': 89407264,\n",
       "              'twoReco_mm': 7449458,\n",
       "              'kinsel_gen': 17379317}),\n",
       " 'UL17NanoAODv9': defaultdict(int,\n",
       "             {'all events': 64362312,\n",
       "              'weights cut': 62306676,\n",
       "              'oneGenJet': 62066575,\n",
       "              'twoGen_ee': 5271243,\n",
       "              'twoGen_mm': 8739879,\n",
       "              'twoGen_leptons': 14010781,\n",
       "              'z_ptcut_gen': 13338916,\n",
       "              'z_mcut_gen': 12746301,\n",
       "              'z_jet_dphi_sel_gen': 12772886,\n",
       "              'z_pt_asym_sel_gen': 23362605,\n",
       "              'kinsel_gen': 12111554,\n",
       "              'toposel_gen': 6107157,\n",
       "              'allsel_gen': 3014119,\n",
       "              'twoReco_ee': 2305810,\n",
       "              'twoReco_mm': 5098107,\n",
       "              'twoReco_leptons': 7403903,\n",
       "              'z_ptcut_reco': 26315394,\n",
       "              'z_mcut_reco': 11944898,\n",
       "              'oneRecoJet': 61864361,\n",
       "              'z_jet_dphi_sel_reco': 10931595,\n",
       "              'z_pt_asym_sel_reco': 12957390,\n",
       "              'kinsel_reco': 6343437,\n",
       "              'toposel_reco': 3196583,\n",
       "              'presel_reco': 1768155,\n",
       "              'allsel_reco': 1374387}),\n",
       " 'UL16NanoAODv9': defaultdict(int,\n",
       "             {'all events': 29716956,\n",
       "              'weights cut': 28845884,\n",
       "              'oneGenJet': 28733636,\n",
       "              'twoGen_ee': 2442609,\n",
       "              'twoGen_mm': 4052440,\n",
       "              'twoGen_leptons': 6494875,\n",
       "              'z_ptcut_gen': 6184255,\n",
       "              'z_mcut_gen': 5909382,\n",
       "              'z_jet_dphi_sel_gen': 5906023,\n",
       "              'z_pt_asym_sel_gen': 10792735,\n",
       "              'kinsel_gen': 5615844,\n",
       "              'toposel_gen': 2815467,\n",
       "              'allsel_gen': 1389819,\n",
       "              'twoReco_ee': 1011857,\n",
       "              'twoReco_mm': 2555776,\n",
       "              'twoReco_leptons': 3567627,\n",
       "              'z_ptcut_reco': 12033939,\n",
       "              'z_mcut_reco': 5678673,\n",
       "              'oneRecoJet': 28623223,\n",
       "              'z_jet_dphi_sel_reco': 5086937,\n",
       "              'z_pt_asym_sel_reco': 5915368,\n",
       "              'kinsel_reco': 3055854,\n",
       "              'toposel_reco': 1479125,\n",
       "              'presel_reco': 841107,\n",
       "              'allsel_reco': 660366})}"
      ]
     },
     "execution_count": 27,
     "metadata": {},
     "output_type": "execute_result"
    }
   ],
   "source": [
    "output[\"cutflow\"]"
   ]
  },
  {
   "cell_type": "code",
   "execution_count": 28,
   "metadata": {},
   "outputs": [
    {
     "data": {
      "text/plain": [
       "[StairsArtists(stairs=<matplotlib.patches.StepPatch object at 0x7f74cd57ebb0>, errorbar=<ErrorbarContainer object of 3 artists>, legend_artist=<ErrorbarContainer object of 3 artists>)]"
      ]
     },
     "execution_count": 28,
     "metadata": {},
     "output_type": "execute_result"
    },
    {
     "data": {
      "image/png": "[encoded data removed]",
      "text/plain": [
       "<Figure size 432x288 with 1 Axes>"
      ]
     },
     "metadata": {
      "needs_background": "light"
     },
     "output_type": "display_data"
    }
   ],
   "source": [
    "output['ptjet_reco_over_gen'].project('frac').plot()"
   ]
  },
  {
   "cell_type": "code",
   "execution_count": 29,
   "metadata": {},
   "outputs": [
    {
     "data": {
      "text/plain": [
       "[StairsArtists(stairs=<matplotlib.patches.StepPatch object at 0x7f74cd511e80>, errorbar=<ErrorbarContainer object of 3 artists>, legend_artist=<ErrorbarContainer object of 3 artists>)]"
      ]
     },
     "execution_count": 29,
     "metadata": {},
     "output_type": "execute_result"
    },
    {
     "data": {
      "image/png": "[encoded data removed]",
      "text/plain": [
       "<Figure size 432x288 with 1 Axes>"
      ]
     },
     "metadata": {
      "needs_background": "light"
     },
     "output_type": "display_data"
    }
   ],
   "source": [
    "output['pt_jet_over_z_gen'].project('frac').plot()"
   ]
  },
  {
   "cell_type": "code",
   "execution_count": 30,
   "metadata": {},
   "outputs": [
    {
     "data": {
      "text/plain": [
       "[StairsArtists(stairs=<matplotlib.patches.StepPatch object at 0x7f74cd374d60>, errorbar=<ErrorbarContainer object of 3 artists>, legend_artist=<ErrorbarContainer object of 3 artists>)]"
      ]
     },
     "execution_count": 30,
     "metadata": {},
     "output_type": "execute_result"
    },
    {
     "data": {
      "image/png": "[encoded data removed]",
      "text/plain": [
       "<Figure size 432x288 with 1 Axes>"
      ]
     },
     "metadata": {
      "needs_background": "light"
     },
     "output_type": "display_data"
    }
   ],
   "source": [
    "output['pt_z_gen_over_reco'].project('frac').plot()"
   ]
  },
  {
   "cell_type": "code",
   "execution_count": null,
   "metadata": {},
   "outputs": [],
   "source": [
    "h = output['ptfrac_z_jet_reco']"
   ]
  },
  {
   "cell_type": "code",
   "execution_count": null,
   "metadata": {},
   "outputs": [],
   "source": [
    "h1020 = h[:,2:3,:].density()\n",
    "h1020.project('frac').plot()"
   ]
  },
  {
   "cell_type": "code",
   "execution_count": null,
   "metadata": {},
   "outputs": [],
   "source": [
    "#import matplotlib.pyplot as plt\n",
    "#plt.rcParams[\"figure.figsize\"] = (10,8)"
   ]
  },
  {
   "cell_type": "code",
   "execution_count": null,
   "metadata": {},
   "outputs": [],
   "source": [
    "\n",
    "hlist = []\n",
    "for i in range(h.axes[1].size-1):\n",
    "    hlist.append(h[:,i:i+1,:])\n",
    "\n",
    "for h in hlist:\n",
    "    h.project('frac').plot(density = True)\n",
    "plt.show()"
   ]
  },
  {
   "cell_type": "code",
   "execution_count": null,
   "metadata": {},
   "outputs": [],
   "source": [
    "hlist[3].project('ptreco').plot()"
   ]
  },
  {
   "cell_type": "code",
   "execution_count": null,
   "metadata": {},
   "outputs": [],
   "source": []
  }
 ],
 "metadata": {
  "kernelspec": {
   "display_name": "Python 3 (ipykernel)",
   "language": "python",
   "name": "python3"
  },
  "language_info": {
   "codemirror_mode": {
    "name": "ipython",
    "version": 3
   },
   "file_extension": ".py",
   "mimetype": "text/x-python",
   "name": "python",
   "nbconvert_exporter": "python",
   "pygments_lexer": "ipython3",
   "version": "3.8.12"
  }
 },
 "nbformat": 4,
 "nbformat_minor": 4
}
