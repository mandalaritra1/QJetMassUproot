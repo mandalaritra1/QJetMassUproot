{
 "cells": [
  {
   "cell_type": "markdown",
   "metadata": {},
   "source": [
    "# Analysis for Differential Jet Mass in Z+Jets events with NanoAODv9"
   ]
  },
  {
   "cell_type": "code",
   "execution_count": 42,
   "metadata": {},
   "outputs": [
    {
     "name": "stdout",
     "output_type": "stream",
     "text": [
      "awkward version  1.7.0\n",
      "coffea version  0.7.11\n"
     ]
    }
   ],
   "source": [
    "import awkward as ak\n",
    "import numpy as np\n",
    "import time\n",
    "import coffea\n",
    "import uproot\n",
    "import hist\n",
    "import vector\n",
    "print(\"awkward version \", ak.__version__)\n",
    "print(\"coffea version \", coffea.__version__)\n",
    "from coffea import util, processor\n",
    "from coffea.nanoevents import NanoEventsFactory, NanoAODSchema, BaseSchema\n",
    "from collections import defaultdict\n",
    "import pickle\n",
    "from distributed.diagnostics.plugin import UploadDirectory\n",
    "import os"
   ]
  },
  {
   "cell_type": "markdown",
   "metadata": {},
   "source": [
    "### Automatically reload any modules used"
   ]
  },
  {
   "cell_type": "code",
   "execution_count": 43,
   "metadata": {},
   "outputs": [
    {
     "name": "stdout",
     "output_type": "stream",
     "text": [
      "The autoreload extension is already loaded. To reload it, use:\n",
      "  %reload_ext autoreload\n"
     ]
    }
   ],
   "source": [
    "%load_ext autoreload\n",
    "%autoreload 2"
   ]
  },
  {
   "cell_type": "code",
   "execution_count": 44,
   "metadata": {},
   "outputs": [],
   "source": [
    "from smp_utils import *\n",
    "from cms_utils import *\n",
    "from response_maker_nanov9_lib_ak4 import *\n",
    "from response_maker_nanov9_ak4 import *"
   ]
  },
  {
   "cell_type": "code",
   "execution_count": 45,
   "metadata": {},
   "outputs": [],
   "source": [
    "#f = uproot.open(\"/mnt/data/cms/store/mc/RunIISummer20UL16NanoAODv9/DYJetsToLL_M-50_HT-100to200_TuneCP5_PSweights_13TeV-madgraphMLM-pythia8/NANOAODSIM/106X_mcRun2_asymptotic_v17-v2/260000/18D0A087-30BD-FE4E-B447-5F493C2D2794.root\")\n",
    "#f[\"Events\"].keys()"
   ]
  },
  {
   "cell_type": "markdown",
   "metadata": {},
   "source": [
    "# f[\"Events\"].keys()"
   ]
  },
  {
   "cell_type": "code",
   "execution_count": 46,
   "metadata": {},
   "outputs": [],
   "source": [
    "#from dask.distributed import Client\n",
    "\n",
    "#client = Client(\"tls://rappoccio-40gmail-2ecom.dask.cmsaf-prod.flatiron.hollandhpc.org:8786\")\n",
    "#client"
   ]
  },
  {
   "cell_type": "code",
   "execution_count": 47,
   "metadata": {},
   "outputs": [],
   "source": [
    "#client.register_worker_plugin(UploadDirectory(\"/home/cms-jovyan/QJetMassUproot\", restart=True, update_path=True), nanny=True)\n",
    "#print(client.run(os.listdir, \"dask-worker-space\") )"
   ]
  },
  {
   "cell_type": "markdown",
   "metadata": {},
   "source": [
    "### If desired, uncomment these to move or remove old pkl files"
   ]
  },
  {
   "cell_type": "code",
   "execution_count": 48,
   "metadata": {},
   "outputs": [],
   "source": [
    "#! mv qjetmass_zjets_gen.pkl qjetmass_zjets_gen_old.pkl\n",
    "#! mv qjetmass_zjets_reco.pkl qjetmass_zjets_reco_old.pkl"
   ]
  },
  {
   "cell_type": "code",
   "execution_count": 49,
   "metadata": {
    "tags": []
   },
   "outputs": [],
   "source": [
    "#client.scheduler_info()['workers']"
   ]
  },
  {
   "cell_type": "markdown",
   "metadata": {},
   "source": [
    "### If you want to rerun, here is the line. Otherwise keep it commented to just read the pkl file. "
   ]
  },
  {
   "cell_type": "code",
   "execution_count": null,
   "metadata": {
    "scrolled": true
   },
   "outputs": [
    {
     "data": {
      "application/vnd.jupyter.widget-view+json": {
       "model_id": "d0eb342c858c4e019171214504460059",
       "version_major": 2,
       "version_minor": 0
      },
      "text/plain": [
       "Processing:   0%|          | 0/5601 [00:00<?, ?chunk/s]"
      ]
     },
     "metadata": {},
     "output_type": "display_data"
    },
    {
     "name": "stdout",
     "output_type": "stream",
     "text": [
      "IOV  2018 , era  Run2018D\n",
      "IOV IOV   2018 2018, era   , era Run2018D \n",
      "Run2018D\n",
      "IOV  2018 , era  Run2018D\n",
      "IOV  2018 , era  Run2018D\n",
      "IOV  2018 IOV , era   2018Run2018D\n",
      " , era  Run2018D\n",
      "IOV  2018 , era  Run2018D\n",
      "IOV  2018 , era  Run2018D\n",
      "IOV  2018 , era  Run2018D\n",
      "IOV  2018 , era  Run2018D\n",
      "IOV  2018 , era  Run2018D\n",
      "IOV  2018 , era  Run2018D\n",
      "IOV  2018 , era  Run2018D\n",
      "IOV  2018 , era  Run2018D\n",
      "IOV  2018 , era  Run2018D\n",
      "IOV  2018 , era  Run2018D\n",
      "IOV  2018 , era  Run2018D\n",
      "IOV  2018 , era  Run2018D\n",
      "IOV  2018 , era  Run2018D\n",
      "IOV  2018 , era  Run2018D\n",
      "IOV  2018 , era  Run2018D\n",
      "IOV  2018 , era  Run2018D\n",
      "IOV  2018 , era  Run2018D\n",
      "IOV  2018 , era  Run2018D\n",
      "IOV  2018 , era  Run2018D\n",
      "IOV  2018 , era  Run2018D\n",
      "IOV  2018 , era  Run2018D\n",
      "IOV  2018 , era  Run2018D\n",
      "IOV  2018 , era  Run2018D\n",
      "IOV  2018 , era  Run2018D\n",
      "IOV  2018 , era  Run2018D\n",
      "IOV  2018 , era  Run2018D\n",
      "IOV  2018 , era  Run2018D\n",
      "IOV  2018 , era  Run2018D\n",
      "IOV  2018 , era  Run2018D\n",
      "IOV  2018 , era  Run2018D\n",
      "IOV  2018 , era  Run2018D\n",
      "IOV  2018 , era  Run2018D\n",
      "IOV  2018 , era  Run2018D\n",
      "IOV  2018 , era  Run2018D\n",
      "IOV  2018 , era  Run2018D\n",
      "IOV  2018 , era  Run2018D\n",
      "IOV  2018 , era  Run2018D\n",
      "IOV  2018 , era  Run2018D\n",
      "IOV  2018 , era  Run2018D\n",
      "IOV  2018 , era  Run2018D\n",
      "IOV  2018 , era  Run2018D\n",
      "IOV  2018 , era  Run2018D\n",
      "IOV  2018 , era  Run2018D\n",
      "IOV  2018 , era  Run2018D\n",
      "IOV  2018 , era  Run2018D\n",
      "IOV  2018 , era  Run2018D\n",
      "IOV  2018 , era  Run2018D\n",
      "IOV  2018 , era  Run2018D\n",
      "IOV  2018 , era  Run2018D\n",
      "IOV  2018 , era  Run2018D\n",
      "IOV  2018 , era  Run2018D\n",
      "IOV  2018 , era  Run2018D\n",
      "IOV  2018 , era  Run2018D\n",
      "IOV  2018 , era  Run2018D\n",
      "IOV  2018 , era  Run2018D\n",
      "IOV  2018 , era  Run2018D\n",
      "IOV  2018 , era  Run2018D\n",
      "IOV  2018 , era  Run2018D\n",
      "IOV  2018 , era  Run2018D\n",
      "IOV  2018 , era  Run2018D\n",
      "IOV  2018 , era  Run2018D\n",
      "IOV  2018 , era  Run2018D\n",
      "IOV  2018 , era  Run2018D\n",
      "IOV  2018 , era  Run2018D\n",
      "IOV  2018 , era  Run2018D\n",
      "IOV  2018 , era  Run2018D\n",
      "IOV  2018 , era  Run2018D\n",
      "IOV  2018 , era  Run2018D\n"
     ]
    }
   ],
   "source": [
    "response_maker_nanov9(testing=False, do_gen=False, client=None, prependstr=\"/mnt/data/cms\")\n",
    "#response_maker_nanov9(testing=True, do_gen=True, client=client)"
   ]
  },
  {
   "cell_type": "code",
   "execution_count": null,
   "metadata": {
    "scrolled": false
   },
   "outputs": [],
   "source": [
    "#response_maker_nanov9(testing=True, do_gen=True, client=client)\n",
    "#response_maker_nanov9(testing=False, do_gen=True, client=None, prependstr=\"/mnt/data/cms\")"
   ]
  },
  {
   "cell_type": "code",
   "execution_count": null,
   "metadata": {},
   "outputs": [],
   "source": []
  },
  {
   "cell_type": "code",
   "execution_count": null,
   "metadata": {},
   "outputs": [],
   "source": [
    "#response_maker_nanov9(testing=True, do_gen=False, client=None, prependstr=\"/mnt/data/cms\")"
   ]
  },
  {
   "cell_type": "code",
   "execution_count": null,
   "metadata": {},
   "outputs": [],
   "source": []
  },
  {
   "cell_type": "markdown",
   "metadata": {},
   "source": [
    "### Open pkl file for the output histograms"
   ]
  },
  {
   "cell_type": "code",
   "execution_count": 39,
   "metadata": {},
   "outputs": [],
   "source": [
    "with open(\"qjetmass_zjets_reco.pkl\", \"rb\") as f:\n",
    "    output = pickle.load( f )"
   ]
  },
  {
   "cell_type": "code",
   "execution_count": 40,
   "metadata": {},
   "outputs": [
    {
     "data": {
      "text/plain": [
       "dict_keys(['njet_gen', 'njet_reco', 'ptjet_gen_pre', 'ptjet_mjet_u_gen', 'ptjet_mjet_u_reco', 'ptjet_mjet_g_gen', 'ptjet_mjet_g_reco', 'ptjet_reco_over_gen', 'drjet_reco_gen', 'ptz_gen', 'ptz_reco', 'mz_gen', 'mz_reco', 'mz_reco_over_gen', 'dr_z_jet_gen', 'dr_z_jet_reco', 'dphi_z_jet_gen', 'dphi_z_jet_reco', 'ptasym_z_jet_gen', 'ptasym_z_jet_reco', 'ptfrac_z_jet_gen', 'ptfrac_z_jet_reco', 'm_u_jet_reco_over_gen', 'm_g_jet_reco_over_gen', 'dr_gen_subjet', 'dr_reco_to_gen_subjet', 'response_matrix_u', 'response_matrix_g', 'cutflow'])"
      ]
     },
     "execution_count": 40,
     "metadata": {},
     "output_type": "execute_result"
    }
   ],
   "source": [
    "output.keys()"
   ]
  },
  {
   "cell_type": "code",
   "execution_count": 41,
   "metadata": {
    "scrolled": true
   },
   "outputs": [
    {
     "data": {
      "text/plain": [
       "{'Test': defaultdict(int,\n",
       "             {'trigsel': 82570,\n",
       "              'twoReco_ee': 0,\n",
       "              'twoReco_mm': 3276,\n",
       "              'twoReco_leptons': 3276,\n",
       "              'z_ptcut_reco': 90393,\n",
       "              'z_mcut_reco': 5640,\n",
       "              'oneRecoJet': 98257,\n",
       "              'z_jet_dphi_sel_reco': 10739,\n",
       "              'z_pt_asym_sel_reco': 71750,\n",
       "              'kinsel_reco': 845,\n",
       "              'toposel_reco': 3365,\n",
       "              'presel_reco': 843,\n",
       "              'allsel_reco': 56})}"
      ]
     },
     "execution_count": 41,
     "metadata": {},
     "output_type": "execute_result"
    }
   ],
   "source": [
    "output[\"cutflow\"]"
   ]
  },
  {
   "cell_type": "code",
   "execution_count": null,
   "metadata": {},
   "outputs": [],
   "source": [
    "output['ptjet_reco_over_gen'].project('frac').plot()"
   ]
  },
  {
   "cell_type": "code",
   "execution_count": null,
   "metadata": {},
   "outputs": [],
   "source": []
  },
  {
   "cell_type": "code",
   "execution_count": null,
   "metadata": {},
   "outputs": [],
   "source": [
    "with open(\"qjetmass_zjets_reco.pkl\", \"rb\") as f2:\n",
    "    output2 = pickle.load( f2 )"
   ]
  },
  {
   "cell_type": "code",
   "execution_count": null,
   "metadata": {},
   "outputs": [],
   "source": [
    "h = output['ptfrac_z_jet_reco']"
   ]
  },
  {
   "cell_type": "code",
   "execution_count": null,
   "metadata": {},
   "outputs": [],
   "source": [
    "h1020 = h[:,2:3,:].density()\n",
    "h1020.project('frac').plot()"
   ]
  },
  {
   "cell_type": "code",
   "execution_count": null,
   "metadata": {},
   "outputs": [],
   "source": [
    "#import matplotlib.pyplot as plt\n",
    "#plt.rcParams[\"figure.figsize\"] = (10,8)"
   ]
  },
  {
   "cell_type": "code",
   "execution_count": null,
   "metadata": {},
   "outputs": [],
   "source": [
    "\n",
    "hlist = []\n",
    "for i in range(h.axes[1].size-1):\n",
    "    hlist.append(h[:,i:i+1,:])\n",
    "\n",
    "for h in hlist:\n",
    "    h.project('frac').plot(density = True)\n",
    "plt.show()"
   ]
  },
  {
   "cell_type": "code",
   "execution_count": null,
   "metadata": {},
   "outputs": [],
   "source": [
    "hlist[3].project('ptreco').plot()"
   ]
  },
  {
   "cell_type": "code",
   "execution_count": null,
   "metadata": {},
   "outputs": [],
   "source": []
  }
 ],
 "metadata": {
  "kernelspec": {
   "display_name": "Python 3 (ipykernel)",
   "language": "python",
   "name": "python3"
  },
  "language_info": {
   "codemirror_mode": {
    "name": "ipython",
    "version": 3
   },
   "file_extension": ".py",
   "mimetype": "text/x-python",
   "name": "python",
   "nbconvert_exporter": "python",
   "pygments_lexer": "ipython3",
   "version": "3.8.12"
  }
 },
 "nbformat": 4,
 "nbformat_minor": 4
}
